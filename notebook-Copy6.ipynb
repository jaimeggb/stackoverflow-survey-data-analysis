{
 "cells": [
  {
   "cell_type": "markdown",
   "id": "791eb5f2-3687-4b8d-bb8e-0bbb8d5ce969",
   "metadata": {},
   "source": [
    "# Stack Overflow Survey Trends"
   ]
  },
  {
   "cell_type": "markdown",
   "id": "55f67f1a-9bcd-4292-95f1-6de110c9f0d8",
   "metadata": {},
   "source": [
    "## Project Overview\n",
    "\n",
    "You work for a staffing agency that specializes in finding qualified candidates for development roles. One of your latest clients is growing rapidly and wants to understand what kinds of developers they can hire, and to understand general trends of the technology market. Your organization has access to this Stack Overflow dataset, which consists of survey responses by developers all over the world for the last few years.\n",
    "\n",
    "Your project is to put together several statistical analyses about the community to educate your client about the potential hiring market for their company."
   ]
  },
  {
   "cell_type": "code",
   "execution_count": 1,
   "id": "f9b4c3e3-9a6c-47df-a617-eb61087cd4a7",
   "metadata": {},
   "outputs": [],
   "source": [
    "import pandas as pd\n",
    "import numpy as np\n",
    "import seaborn as sns\n",
    "import matplotlib.pyplot as plt\n",
    "from matplotlib.ticker import ScalarFormatter"
   ]
  },
  {
   "cell_type": "markdown",
   "id": "95fe3c31-14a0-4c9e-baa2-22f220c42651",
   "metadata": {},
   "source": [
    "## Explore data"
   ]
  },
  {
   "cell_type": "code",
   "execution_count": 2,
   "id": "29142fa3-25b0-4960-a8b3-916c1033f33d",
   "metadata": {},
   "outputs": [
    {
     "name": "stdout",
     "output_type": "stream",
     "text": [
      "Index(['RespondentID', 'Year', 'Country', 'Employment', 'UndergradMajor',\n",
      "       'DevType', 'LanguageWorkedWith', 'LanguageDesireNextYear',\n",
      "       'DatabaseWorkedWith', 'DatabaseDesireNextYear', 'PlatformWorkedWith',\n",
      "       'PlatformDesireNextYear', 'Hobbyist', 'OrgSize', 'YearsCodePro',\n",
      "       'JobSeek', 'ConvertedComp', 'WorkWeekHrs', 'NEWJobHunt',\n",
      "       'NEWJobHuntResearch', 'NEWLearn'],\n",
      "      dtype='object')\n",
      "21\n"
     ]
    },
    {
     "name": "stderr",
     "output_type": "stream",
     "text": [
      "C:\\ProgramData\\Anaconda3\\lib\\site-packages\\IPython\\core\\interactiveshell.py:3444: DtypeWarning: Columns (18,19,20) have mixed types.Specify dtype option on import or set low_memory=False.\n",
      "  exec(code_obj, self.user_global_ns, self.user_ns)\n"
     ]
    }
   ],
   "source": [
    "df = pd.read_csv(r'C:\\Users\\JaimeGGB\\Downloads/stackoverflow-survey-data-analysis/developer_dataset.csv')\n",
    "print(df.columns)\n",
    "print(len(df.columns))"
   ]
  },
  {
   "cell_type": "code",
   "execution_count": 3,
   "id": "5694934d-9ad7-4123-af3d-9aed849c35dc",
   "metadata": {},
   "outputs": [
    {
     "data": {
      "text/plain": [
       "RespondentID              111209\n",
       "Year                      111209\n",
       "Country                   111209\n",
       "Employment                109425\n",
       "UndergradMajor             98453\n",
       "DevType                   100433\n",
       "LanguageWorkedWith        102018\n",
       "LanguageDesireNextYear     96044\n",
       "DatabaseWorkedWith         85859\n",
       "DatabaseDesireNextYear     74234\n",
       "PlatformWorkedWith         91609\n",
       "PlatformDesireNextYear     85376\n",
       "Hobbyist                   68352\n",
       "OrgSize                    54804\n",
       "YearsCodePro               94793\n",
       "JobSeek                    60556\n",
       "ConvertedComp              91333\n",
       "WorkWeekHrs                51089\n",
       "NEWJobHunt                 19127\n",
       "NEWJobHuntResearch         18683\n",
       "NEWLearn                   24226\n",
       "dtype: int64"
      ]
     },
     "execution_count": 3,
     "metadata": {},
     "output_type": "execute_result"
    }
   ],
   "source": [
    "df.count()"
   ]
  },
  {
   "cell_type": "code",
   "execution_count": 4,
   "id": "453bcbd4-4d23-494d-b4c7-0a9400edf5ea",
   "metadata": {},
   "outputs": [
    {
     "data": {
      "text/html": [
       "<div>\n",
       "<style scoped>\n",
       "    .dataframe tbody tr th:only-of-type {\n",
       "        vertical-align: middle;\n",
       "    }\n",
       "\n",
       "    .dataframe tbody tr th {\n",
       "        vertical-align: top;\n",
       "    }\n",
       "\n",
       "    .dataframe thead th {\n",
       "        text-align: right;\n",
       "    }\n",
       "</style>\n",
       "<table border=\"1\" class=\"dataframe\">\n",
       "  <thead>\n",
       "    <tr style=\"text-align: right;\">\n",
       "      <th></th>\n",
       "      <th>RespondentID</th>\n",
       "      <th>Year</th>\n",
       "      <th>YearsCodePro</th>\n",
       "      <th>ConvertedComp</th>\n",
       "      <th>WorkWeekHrs</th>\n",
       "    </tr>\n",
       "  </thead>\n",
       "  <tbody>\n",
       "    <tr>\n",
       "      <th>count</th>\n",
       "      <td>111209.000000</td>\n",
       "      <td>111209.000000</td>\n",
       "      <td>94793.000000</td>\n",
       "      <td>9.133300e+04</td>\n",
       "      <td>51089.000000</td>\n",
       "    </tr>\n",
       "    <tr>\n",
       "      <th>mean</th>\n",
       "      <td>19262.039709</td>\n",
       "      <td>2018.854832</td>\n",
       "      <td>9.547045</td>\n",
       "      <td>1.251777e+05</td>\n",
       "      <td>41.051670</td>\n",
       "    </tr>\n",
       "    <tr>\n",
       "      <th>std</th>\n",
       "      <td>11767.011322</td>\n",
       "      <td>0.777503</td>\n",
       "      <td>7.548931</td>\n",
       "      <td>2.461218e+05</td>\n",
       "      <td>13.833929</td>\n",
       "    </tr>\n",
       "    <tr>\n",
       "      <th>min</th>\n",
       "      <td>1.000000</td>\n",
       "      <td>2018.000000</td>\n",
       "      <td>0.000000</td>\n",
       "      <td>0.000000e+00</td>\n",
       "      <td>1.000000</td>\n",
       "    </tr>\n",
       "    <tr>\n",
       "      <th>25%</th>\n",
       "      <td>9268.000000</td>\n",
       "      <td>2018.000000</td>\n",
       "      <td>4.000000</td>\n",
       "      <td>4.600000e+04</td>\n",
       "      <td>40.000000</td>\n",
       "    </tr>\n",
       "    <tr>\n",
       "      <th>50%</th>\n",
       "      <td>18535.000000</td>\n",
       "      <td>2019.000000</td>\n",
       "      <td>8.000000</td>\n",
       "      <td>7.900000e+04</td>\n",
       "      <td>40.000000</td>\n",
       "    </tr>\n",
       "    <tr>\n",
       "      <th>75%</th>\n",
       "      <td>28347.000000</td>\n",
       "      <td>2019.000000</td>\n",
       "      <td>14.000000</td>\n",
       "      <td>1.200000e+05</td>\n",
       "      <td>42.000000</td>\n",
       "    </tr>\n",
       "    <tr>\n",
       "      <th>max</th>\n",
       "      <td>42857.000000</td>\n",
       "      <td>2020.000000</td>\n",
       "      <td>50.000000</td>\n",
       "      <td>2.000000e+06</td>\n",
       "      <td>475.000000</td>\n",
       "    </tr>\n",
       "  </tbody>\n",
       "</table>\n",
       "</div>"
      ],
      "text/plain": [
       "        RespondentID           Year  YearsCodePro  ConvertedComp   WorkWeekHrs\n",
       "count  111209.000000  111209.000000  94793.000000   9.133300e+04  51089.000000\n",
       "mean    19262.039709    2018.854832      9.547045   1.251777e+05     41.051670\n",
       "std     11767.011322       0.777503      7.548931   2.461218e+05     13.833929\n",
       "min         1.000000    2018.000000      0.000000   0.000000e+00      1.000000\n",
       "25%      9268.000000    2018.000000      4.000000   4.600000e+04     40.000000\n",
       "50%     18535.000000    2019.000000      8.000000   7.900000e+04     40.000000\n",
       "75%     28347.000000    2019.000000     14.000000   1.200000e+05     42.000000\n",
       "max     42857.000000    2020.000000     50.000000   2.000000e+06    475.000000"
      ]
     },
     "execution_count": 4,
     "metadata": {},
     "output_type": "execute_result"
    }
   ],
   "source": [
    "df.describe()"
   ]
  },
  {
   "cell_type": "code",
   "execution_count": 5,
   "id": "e18b0aa6-127b-42d7-9622-325be8792e85",
   "metadata": {},
   "outputs": [
    {
     "data": {
      "text/plain": [
       "RespondentID                int64\n",
       "Year                        int64\n",
       "Country                    object\n",
       "Employment                 object\n",
       "UndergradMajor             object\n",
       "DevType                    object\n",
       "LanguageWorkedWith         object\n",
       "LanguageDesireNextYear     object\n",
       "DatabaseWorkedWith         object\n",
       "DatabaseDesireNextYear     object\n",
       "PlatformWorkedWith         object\n",
       "PlatformDesireNextYear     object\n",
       "Hobbyist                   object\n",
       "OrgSize                    object\n",
       "YearsCodePro              float64\n",
       "JobSeek                    object\n",
       "ConvertedComp             float64\n",
       "WorkWeekHrs               float64\n",
       "NEWJobHunt                 object\n",
       "NEWJobHuntResearch         object\n",
       "NEWLearn                   object\n",
       "dtype: object"
      ]
     },
     "execution_count": 5,
     "metadata": {},
     "output_type": "execute_result"
    }
   ],
   "source": [
    "df.dtypes"
   ]
  },
  {
   "cell_type": "code",
   "execution_count": 6,
   "id": "538dacfd-7023-4cff-a596-b7e103063d39",
   "metadata": {},
   "outputs": [
    {
     "data": {
      "text/html": [
       "<div>\n",
       "<style scoped>\n",
       "    .dataframe tbody tr th:only-of-type {\n",
       "        vertical-align: middle;\n",
       "    }\n",
       "\n",
       "    .dataframe tbody tr th {\n",
       "        vertical-align: top;\n",
       "    }\n",
       "\n",
       "    .dataframe thead th {\n",
       "        text-align: right;\n",
       "    }\n",
       "</style>\n",
       "<table border=\"1\" class=\"dataframe\">\n",
       "  <thead>\n",
       "    <tr style=\"text-align: right;\">\n",
       "      <th></th>\n",
       "      <th>RespondentID</th>\n",
       "      <th>Year</th>\n",
       "      <th>Country</th>\n",
       "      <th>Employment</th>\n",
       "      <th>UndergradMajor</th>\n",
       "      <th>DevType</th>\n",
       "      <th>LanguageWorkedWith</th>\n",
       "      <th>LanguageDesireNextYear</th>\n",
       "      <th>DatabaseWorkedWith</th>\n",
       "      <th>DatabaseDesireNextYear</th>\n",
       "      <th>...</th>\n",
       "      <th>PlatformDesireNextYear</th>\n",
       "      <th>Hobbyist</th>\n",
       "      <th>OrgSize</th>\n",
       "      <th>YearsCodePro</th>\n",
       "      <th>JobSeek</th>\n",
       "      <th>ConvertedComp</th>\n",
       "      <th>WorkWeekHrs</th>\n",
       "      <th>NEWJobHunt</th>\n",
       "      <th>NEWJobHuntResearch</th>\n",
       "      <th>NEWLearn</th>\n",
       "    </tr>\n",
       "  </thead>\n",
       "  <tbody>\n",
       "    <tr>\n",
       "      <th>0</th>\n",
       "      <td>1</td>\n",
       "      <td>2018</td>\n",
       "      <td>United States</td>\n",
       "      <td>Employed full-time</td>\n",
       "      <td>Computer science, computer engineering, or sof...</td>\n",
       "      <td>Engineering manager;Full-stack developer</td>\n",
       "      <td>NaN</td>\n",
       "      <td>NaN</td>\n",
       "      <td>NaN</td>\n",
       "      <td>NaN</td>\n",
       "      <td>...</td>\n",
       "      <td>NaN</td>\n",
       "      <td>NaN</td>\n",
       "      <td>NaN</td>\n",
       "      <td>NaN</td>\n",
       "      <td>NaN</td>\n",
       "      <td>141000.0</td>\n",
       "      <td>NaN</td>\n",
       "      <td>NaN</td>\n",
       "      <td>NaN</td>\n",
       "      <td>NaN</td>\n",
       "    </tr>\n",
       "    <tr>\n",
       "      <th>1</th>\n",
       "      <td>1</td>\n",
       "      <td>2019</td>\n",
       "      <td>United States</td>\n",
       "      <td>Employed full-time</td>\n",
       "      <td>Computer science, computer engineering, or sof...</td>\n",
       "      <td>Developer, full-stack</td>\n",
       "      <td>C;C++;C#;Python;SQL</td>\n",
       "      <td>C;C#;JavaScript;SQL</td>\n",
       "      <td>MySQL;SQLite</td>\n",
       "      <td>MySQL;SQLite</td>\n",
       "      <td>...</td>\n",
       "      <td>Linux;Windows</td>\n",
       "      <td>No</td>\n",
       "      <td>100 to 499 employees</td>\n",
       "      <td>1.0</td>\n",
       "      <td>I am not interested in new job opportunities</td>\n",
       "      <td>61000.0</td>\n",
       "      <td>80.0</td>\n",
       "      <td>NaN</td>\n",
       "      <td>NaN</td>\n",
       "      <td>NaN</td>\n",
       "    </tr>\n",
       "    <tr>\n",
       "      <th>2</th>\n",
       "      <td>1</td>\n",
       "      <td>2020</td>\n",
       "      <td>United States</td>\n",
       "      <td>Employed full-time</td>\n",
       "      <td>Computer science, computer engineering, or sof...</td>\n",
       "      <td>NaN</td>\n",
       "      <td>HTML/CSS;Ruby;SQL</td>\n",
       "      <td>Java;Ruby;Scala</td>\n",
       "      <td>MySQL;PostgreSQL;Redis;SQLite</td>\n",
       "      <td>MySQL;PostgreSQL</td>\n",
       "      <td>...</td>\n",
       "      <td>Docker;Google Cloud Platform;Heroku;Linux;Windows</td>\n",
       "      <td>Yes</td>\n",
       "      <td>NaN</td>\n",
       "      <td>8.0</td>\n",
       "      <td>NaN</td>\n",
       "      <td>NaN</td>\n",
       "      <td>NaN</td>\n",
       "      <td>NaN</td>\n",
       "      <td>NaN</td>\n",
       "      <td>Once a year</td>\n",
       "    </tr>\n",
       "    <tr>\n",
       "      <th>3</th>\n",
       "      <td>2</td>\n",
       "      <td>2018</td>\n",
       "      <td>United States</td>\n",
       "      <td>Employed full-time</td>\n",
       "      <td>Computer science, computer engineering, or sof...</td>\n",
       "      <td>Full-stack developer</td>\n",
       "      <td>C#;JavaScript;SQL;TypeScript;HTML;CSS;Bash/Shell</td>\n",
       "      <td>C#;JavaScript;SQL;TypeScript;HTML;CSS;Bash/Shell</td>\n",
       "      <td>SQL Server;Microsoft Azure (Tables, CosmosDB, ...</td>\n",
       "      <td>SQL Server;Microsoft Azure (Tables, CosmosDB, ...</td>\n",
       "      <td>...</td>\n",
       "      <td>Azure</td>\n",
       "      <td>NaN</td>\n",
       "      <td>NaN</td>\n",
       "      <td>4.0</td>\n",
       "      <td>NaN</td>\n",
       "      <td>48000.0</td>\n",
       "      <td>NaN</td>\n",
       "      <td>NaN</td>\n",
       "      <td>NaN</td>\n",
       "      <td>NaN</td>\n",
       "    </tr>\n",
       "    <tr>\n",
       "      <th>4</th>\n",
       "      <td>2</td>\n",
       "      <td>2019</td>\n",
       "      <td>United States</td>\n",
       "      <td>Employed full-time</td>\n",
       "      <td>Computer science, computer engineering, or sof...</td>\n",
       "      <td>Data or business analyst;Database administrato...</td>\n",
       "      <td>Bash/Shell/PowerShell;HTML/CSS;JavaScript;PHP;...</td>\n",
       "      <td>Bash/Shell/PowerShell;HTML/CSS;JavaScript;Rust...</td>\n",
       "      <td>Couchbase;DynamoDB;Firebase;MySQL</td>\n",
       "      <td>Firebase;MySQL;Redis</td>\n",
       "      <td>...</td>\n",
       "      <td>Android;AWS;Docker;IBM Cloud or Watson;Linux;S...</td>\n",
       "      <td>Yes</td>\n",
       "      <td>10 to 19 employees</td>\n",
       "      <td>8.0</td>\n",
       "      <td>I am not interested in new job opportunities</td>\n",
       "      <td>90000.0</td>\n",
       "      <td>40.0</td>\n",
       "      <td>NaN</td>\n",
       "      <td>NaN</td>\n",
       "      <td>NaN</td>\n",
       "    </tr>\n",
       "  </tbody>\n",
       "</table>\n",
       "<p>5 rows × 21 columns</p>\n",
       "</div>"
      ],
      "text/plain": [
       "   RespondentID  Year        Country          Employment  \\\n",
       "0             1  2018  United States  Employed full-time   \n",
       "1             1  2019  United States  Employed full-time   \n",
       "2             1  2020  United States  Employed full-time   \n",
       "3             2  2018  United States  Employed full-time   \n",
       "4             2  2019  United States  Employed full-time   \n",
       "\n",
       "                                      UndergradMajor  \\\n",
       "0  Computer science, computer engineering, or sof...   \n",
       "1  Computer science, computer engineering, or sof...   \n",
       "2  Computer science, computer engineering, or sof...   \n",
       "3  Computer science, computer engineering, or sof...   \n",
       "4  Computer science, computer engineering, or sof...   \n",
       "\n",
       "                                             DevType  \\\n",
       "0           Engineering manager;Full-stack developer   \n",
       "1                              Developer, full-stack   \n",
       "2                                                NaN   \n",
       "3                               Full-stack developer   \n",
       "4  Data or business analyst;Database administrato...   \n",
       "\n",
       "                                  LanguageWorkedWith  \\\n",
       "0                                                NaN   \n",
       "1                                C;C++;C#;Python;SQL   \n",
       "2                                  HTML/CSS;Ruby;SQL   \n",
       "3   C#;JavaScript;SQL;TypeScript;HTML;CSS;Bash/Shell   \n",
       "4  Bash/Shell/PowerShell;HTML/CSS;JavaScript;PHP;...   \n",
       "\n",
       "                              LanguageDesireNextYear  \\\n",
       "0                                                NaN   \n",
       "1                                C;C#;JavaScript;SQL   \n",
       "2                                    Java;Ruby;Scala   \n",
       "3   C#;JavaScript;SQL;TypeScript;HTML;CSS;Bash/Shell   \n",
       "4  Bash/Shell/PowerShell;HTML/CSS;JavaScript;Rust...   \n",
       "\n",
       "                                  DatabaseWorkedWith  \\\n",
       "0                                                NaN   \n",
       "1                                       MySQL;SQLite   \n",
       "2                      MySQL;PostgreSQL;Redis;SQLite   \n",
       "3  SQL Server;Microsoft Azure (Tables, CosmosDB, ...   \n",
       "4                  Couchbase;DynamoDB;Firebase;MySQL   \n",
       "\n",
       "                              DatabaseDesireNextYear  ...  \\\n",
       "0                                                NaN  ...   \n",
       "1                                       MySQL;SQLite  ...   \n",
       "2                                   MySQL;PostgreSQL  ...   \n",
       "3  SQL Server;Microsoft Azure (Tables, CosmosDB, ...  ...   \n",
       "4                               Firebase;MySQL;Redis  ...   \n",
       "\n",
       "                              PlatformDesireNextYear Hobbyist  \\\n",
       "0                                                NaN      NaN   \n",
       "1                                      Linux;Windows       No   \n",
       "2  Docker;Google Cloud Platform;Heroku;Linux;Windows      Yes   \n",
       "3                                              Azure      NaN   \n",
       "4  Android;AWS;Docker;IBM Cloud or Watson;Linux;S...      Yes   \n",
       "\n",
       "                OrgSize YearsCodePro  \\\n",
       "0                   NaN          NaN   \n",
       "1  100 to 499 employees          1.0   \n",
       "2                   NaN          8.0   \n",
       "3                   NaN          4.0   \n",
       "4    10 to 19 employees          8.0   \n",
       "\n",
       "                                        JobSeek ConvertedComp  WorkWeekHrs  \\\n",
       "0                                           NaN      141000.0          NaN   \n",
       "1  I am not interested in new job opportunities       61000.0         80.0   \n",
       "2                                           NaN           NaN          NaN   \n",
       "3                                           NaN       48000.0          NaN   \n",
       "4  I am not interested in new job opportunities       90000.0         40.0   \n",
       "\n",
       "   NEWJobHunt NEWJobHuntResearch     NEWLearn  \n",
       "0         NaN                NaN          NaN  \n",
       "1         NaN                NaN          NaN  \n",
       "2         NaN                NaN  Once a year  \n",
       "3         NaN                NaN          NaN  \n",
       "4         NaN                NaN          NaN  \n",
       "\n",
       "[5 rows x 21 columns]"
      ]
     },
     "execution_count": 6,
     "metadata": {},
     "output_type": "execute_result"
    }
   ],
   "source": [
    "df.head()"
   ]
  },
  {
   "cell_type": "markdown",
   "id": "beaaf4b4-43de-4037-be4e-c35ca32c8a63",
   "metadata": {},
   "source": [
    "Some initial interesting questions we could answer with this data: \n",
    "- Where do respondents live? (pie chart)\n",
    "- What percentage are employed, not employed, etc? (pie chart)\n",
    "- Undergrad major? (pie chart)\n",
    "- DevType? (pie chart)\n",
    "- Languages worked with? (pie chart)\n",
    "- Languages desired? (pie chart)\n",
    "- Databases worked with? (pie chart)\n",
    "- Databases desired? (pie chart)\n",
    "- Hobbyist? (Pie chart)\n",
    "...\n",
    "- Converted comp? (Histogram)\n",
    "- Work week hours? (Histogram)\n",
    "\n",
    "Then client could ask for specifics, like: out the people who are not employed/fully available for hire, how many desire to work with Python for example?"
   ]
  },
  {
   "cell_type": "markdown",
   "id": "1c95e77a-10f4-468a-81bc-8822fbb8c488",
   "metadata": {},
   "source": [
    "## Delete highly missing data"
   ]
  },
  {
   "cell_type": "markdown",
   "id": "ad225be2-7dfa-4a8d-b087-2c6eda24c4fc",
   "metadata": {},
   "source": [
    "You can safely remove columns with more than ~60% missing data"
   ]
  },
  {
   "cell_type": "code",
   "execution_count": 7,
   "id": "98039b02-d6cb-406f-be85-7722ecd7eeef",
   "metadata": {},
   "outputs": [
    {
     "name": "stdout",
     "output_type": "stream",
     "text": [
      "RespondentID               0.000000\n",
      "Year                       0.000000\n",
      "Country                    0.000000\n",
      "Employment                 1.604187\n",
      "UndergradMajor            11.470295\n",
      "DevType                    9.689863\n",
      "LanguageWorkedWith         8.264619\n",
      "LanguageDesireNextYear    13.636486\n",
      "DatabaseWorkedWith        22.794918\n",
      "DatabaseDesireNextYear    33.248208\n",
      "PlatformWorkedWith        17.624473\n",
      "PlatformDesireNextYear    23.229235\n",
      "Hobbyist                  38.537349\n",
      "OrgSize                   50.719816\n",
      "YearsCodePro              14.761395\n",
      "JobSeek                   45.547573\n",
      "ConvertedComp             17.872654\n",
      "WorkWeekHrs               54.060373\n",
      "NEWJobHunt                82.800852\n",
      "NEWJobHuntResearch        83.200101\n",
      "NEWLearn                  78.215792\n",
      "dtype: float64\n"
     ]
    },
    {
     "data": {
      "text/plain": [
       "18"
      ]
     },
     "execution_count": 7,
     "metadata": {},
     "output_type": "execute_result"
    }
   ],
   "source": [
    "non_null_counts = df.notna().sum()\n",
    "perc = (1 - (non_null_counts / max(non_null_counts))) * 100\n",
    "print(perc)\n",
    "colstodrop = perc.index[perc > 60]\n",
    "df.drop(columns=colstodrop, inplace=True)\n",
    "len(df.columns)"
   ]
  },
  {
   "cell_type": "markdown",
   "id": "a172ea90-24ba-4029-a36d-206371308cc7",
   "metadata": {
    "tags": []
   },
   "source": [
    "## Analyze developers by country"
   ]
  },
  {
   "cell_type": "markdown",
   "id": "0cfffc92-1d9e-4aa2-8d9e-0d4ebaaa5eb0",
   "metadata": {
    "tags": []
   },
   "source": [
    "We will analyzee Employment and DevType by country. What type of missing data do the Employment and Devtype columns have? MCAR, MAR, Structurally Missing, MNAR?\n",
    "- Structurally missing data - blank spaces were left on purpose, look at other columns for clues as to why\n",
    "- MCAR - Missing completely at random - data is not missing because a specific group of people decided not to answer the survey, - due to human error when inputting data many times. Use groupBy to find out.\n",
    "- MAR - Missing at random - data is missing because a specific group of people decided not to answer survey (perhaps fat people did not share their weight). We say at random because out of the fat people, the probability of any one fat person not providing their weight is random. Use groupBy to find out.\n",
    "- MNAR - Missing not at random - it was due to a specific event, such as: the researches did not have a scale to take weights on one specific date because they had no batteries\n",
    "\n",
    "Do developers from certain countries have a larger PROPORTION of missing Employment data? Do developers from certain countries have a larger PROPORTION of missing DevType data?"
   ]
  },
  {
   "cell_type": "code",
   "execution_count": 8,
   "id": "773c6173-030b-46dc-9309-a0c1ab57c19f",
   "metadata": {},
   "outputs": [
    {
     "data": {
      "text/html": [
       "<div>\n",
       "<style scoped>\n",
       "    .dataframe tbody tr th:only-of-type {\n",
       "        vertical-align: middle;\n",
       "    }\n",
       "\n",
       "    .dataframe tbody tr th {\n",
       "        vertical-align: top;\n",
       "    }\n",
       "\n",
       "    .dataframe thead th {\n",
       "        text-align: right;\n",
       "    }\n",
       "</style>\n",
       "<table border=\"1\" class=\"dataframe\">\n",
       "  <thead>\n",
       "    <tr style=\"text-align: right;\">\n",
       "      <th></th>\n",
       "      <th>Country</th>\n",
       "      <th>Employment</th>\n",
       "      <th>DevType</th>\n",
       "    </tr>\n",
       "  </thead>\n",
       "  <tbody>\n",
       "    <tr>\n",
       "      <th>0</th>\n",
       "      <td>Canada</td>\n",
       "      <td>148</td>\n",
       "      <td>944</td>\n",
       "    </tr>\n",
       "    <tr>\n",
       "      <th>1</th>\n",
       "      <td>China</td>\n",
       "      <td>139</td>\n",
       "      <td>491</td>\n",
       "    </tr>\n",
       "    <tr>\n",
       "      <th>2</th>\n",
       "      <td>France</td>\n",
       "      <td>104</td>\n",
       "      <td>848</td>\n",
       "    </tr>\n",
       "    <tr>\n",
       "      <th>3</th>\n",
       "      <td>Germany</td>\n",
       "      <td>386</td>\n",
       "      <td>1691</td>\n",
       "    </tr>\n",
       "    <tr>\n",
       "      <th>4</th>\n",
       "      <td>Japan</td>\n",
       "      <td>13</td>\n",
       "      <td>109</td>\n",
       "    </tr>\n",
       "    <tr>\n",
       "      <th>5</th>\n",
       "      <td>Mexico</td>\n",
       "      <td>25</td>\n",
       "      <td>207</td>\n",
       "    </tr>\n",
       "    <tr>\n",
       "      <th>6</th>\n",
       "      <td>Spain</td>\n",
       "      <td>74</td>\n",
       "      <td>434</td>\n",
       "    </tr>\n",
       "    <tr>\n",
       "      <th>7</th>\n",
       "      <td>United Kingdom</td>\n",
       "      <td>196</td>\n",
       "      <td>1472</td>\n",
       "    </tr>\n",
       "    <tr>\n",
       "      <th>8</th>\n",
       "      <td>United States</td>\n",
       "      <td>699</td>\n",
       "      <td>4580</td>\n",
       "    </tr>\n",
       "  </tbody>\n",
       "</table>\n",
       "</div>"
      ],
      "text/plain": [
       "          Country  Employment  DevType\n",
       "0          Canada         148      944\n",
       "1           China         139      491\n",
       "2          France         104      848\n",
       "3         Germany         386     1691\n",
       "4           Japan          13      109\n",
       "5          Mexico          25      207\n",
       "6           Spain          74      434\n",
       "7  United Kingdom         196     1472\n",
       "8   United States         699     4580"
      ]
     },
     "execution_count": 8,
     "metadata": {},
     "output_type": "execute_result"
    }
   ],
   "source": [
    "missingData = df[['Employment','DevType']].isnull().groupby(df['Country']).sum().reset_index()\n",
    "missingData"
   ]
  },
  {
   "cell_type": "code",
   "execution_count": 9,
   "id": "ccd51615-bfd8-49f1-9acf-40d48bc7cd07",
   "metadata": {},
   "outputs": [
    {
     "name": "stdout",
     "output_type": "stream",
     "text": [
      "Proportion of missing data by country (%):\n",
      "          Country  Employment  DevType\n",
      "0          Canada         2.0     11.0\n",
      "1           China         7.0     24.0\n",
      "2          France         2.0     12.0\n",
      "3         Germany         2.0     10.0\n",
      "4           Japan         1.0     10.0\n",
      "5          Mexico         1.0     11.0\n",
      "6           Spain         2.0     10.0\n",
      "7  United Kingdom         1.0      9.0\n",
      "8   United States         1.0      9.0\n"
     ]
    }
   ],
   "source": [
    "missingData = df[['Employment','DevType']].isnull().groupby(df['Country']).mean().reset_index()\n",
    "missingData[['Employment', 'DevType']] = (missingData[['Employment', 'DevType']] * 100).round(0)\n",
    "print('Proportion of missing data by country (%):')\n",
    "print(missingData)"
   ]
  },
  {
   "cell_type": "code",
   "execution_count": 10,
   "id": "4d489a94-b2a2-43d3-bcad-f806f3c77858",
   "metadata": {},
   "outputs": [
    {
     "name": "stdout",
     "output_type": "stream",
     "text": [
      "Proportion of data NOT missing by country (%):\n",
      "          Country  Employment  DevType\n",
      "0          Canada        98.0     89.0\n",
      "1           China        93.0     76.0\n",
      "2          France        98.0     88.0\n",
      "3         Germany        98.0     90.0\n",
      "4           Japan        99.0     90.0\n",
      "5          Mexico        99.0     89.0\n",
      "6           Spain        98.0     90.0\n",
      "7  United Kingdom        99.0     91.0\n",
      "8   United States        99.0     91.0\n"
     ]
    }
   ],
   "source": [
    "missingData = df[['Employment','DevType']].notnull().groupby(df['Country']).mean().reset_index()\n",
    "missingData[['Employment', 'DevType']] = (missingData[['Employment', 'DevType']] * 100).round(0)\n",
    "print('Proportion of data NOT missing by country (%):')\n",
    "print(missingData)"
   ]
  },
  {
   "cell_type": "code",
   "execution_count": 11,
   "id": "1e4a9a9f-d618-4d1f-841f-eda68c6222ca",
   "metadata": {},
   "outputs": [
    {
     "data": {
      "image/png": "[encoded data removed]",
      "text/plain": [
       "<Figure size 720x432 with 1 Axes>"
      ]
     },
     "metadata": {
      "needs_background": "light"
     },
     "output_type": "display_data"
    }
   ],
   "source": [
    "import matplotlib.pyplot as plt\n",
    "\n",
    "# Set the figure size and font size\n",
    "plt.figure(figsize=(10, 6))\n",
    "plt.rcParams.update({'font.size': 12})\n",
    "\n",
    "# Define the data\n",
    "countries = missingData['Country']\n",
    "employment = missingData['Employment']\n",
    "devtype = missingData['DevType']\n",
    "\n",
    "# Set the bar width\n",
    "bar_width = 0.35\n",
    "\n",
    "# Set the positions of the bars on the x-axis\n",
    "r1 = range(len(countries))\n",
    "r2 = [x + bar_width for x in r1]\n",
    "\n",
    "# Create the bar chart\n",
    "plt.bar(r1, employment, color='tab:blue', width=bar_width, edgecolor='white', label='Employment')\n",
    "plt.bar(r2, devtype, color='tab:orange', width=bar_width, edgecolor='white', label='DevType')\n",
    "\n",
    "# Add x-axis ticks and labels\n",
    "plt.xticks([r + bar_width/2 for r in r1], countries)\n",
    "\n",
    "# Add axis labels and title\n",
    "plt.ylabel('% of non-missing data')\n",
    "plt.xlabel('Country')\n",
    "plt.title('Proportion of data not missing by country')\n",
    "\n",
    "# Add a legend\n",
    "plt.legend()\n",
    "\n",
    "# Display the chart\n",
    "plt.show()"
   ]
  },
  {
   "cell_type": "code",
   "execution_count": 12,
   "id": "1033a6ce-0854-4b72-8a26-a0ef92188dd2",
   "metadata": {},
   "outputs": [
    {
     "name": "stdout",
     "output_type": "stream",
     "text": [
      "Proportion of data NOT missing by Year (%):\n",
      "   Year  Employment  DevType\n",
      "0  2018        98.0     95.0\n",
      "1  2019        98.0     92.0\n",
      "2  2020       100.0     81.0\n"
     ]
    }
   ],
   "source": [
    "missingData = df[['Employment','DevType']].notnull().groupby(df['Year']).mean().reset_index()\n",
    "missingData[['Employment', 'DevType']] = (missingData[['Employment', 'DevType']] * 100).round(0)\n",
    "print('Proportion of data NOT missing by Year (%):')\n",
    "print(missingData)"
   ]
  },
  {
   "cell_type": "code",
   "execution_count": 13,
   "id": "73384edf-fb86-4b39-aa33-a5f0ad0bb1e3",
   "metadata": {},
   "outputs": [
    {
     "name": "stdout",
     "output_type": "stream",
     "text": [
      "Proportion of data NOT missing by Year (%):\n",
      "                                          Employment  Country  DevType\n",
      "0                                 Employed full-time    100.0     96.0\n",
      "1                                 Employed part-time    100.0     94.0\n",
      "2  Independent contractor, freelancer, or self-em...    100.0     96.0\n",
      "3             Not employed, and not looking for work    100.0     47.0\n",
      "4                 Not employed, but looking for work    100.0     94.0\n",
      "5                                            Retired    100.0     22.0\n",
      "6                                            Student    100.0      0.0\n"
     ]
    }
   ],
   "source": [
    "missingData = df[['Country','DevType']].notnull().groupby(df['Employment']).mean().reset_index()\n",
    "missingData[['Country','DevType']] = (missingData[['Country','DevType']] * 100).round(0)\n",
    "print('Proportion of data NOT missing by Year (%):')\n",
    "print(missingData)"
   ]
  },
  {
   "cell_type": "markdown",
   "id": "9b4730d6-ac55-4450-afd0-aeacda3fa675",
   "metadata": {},
   "source": [
    "It seems people who answered \"Retired\", \"No employed, not looking for work\" and \"Student\" left the DevType column missing because perhaps they felt they did not belong to the community and felt less motivated to answer the questions, or did not really know what developer type category to put themselves into. This could be considered Missing At Random."
   ]
  },
  {
   "cell_type": "code",
   "execution_count": 14,
   "id": "c5ed832d-9078-48d9-972e-f75c9c9eec4b",
   "metadata": {},
   "outputs": [
    {
     "name": "stdout",
     "output_type": "stream",
     "text": [
      "Proportion of data NOT missing by Year (%):\n",
      "                                                 DevType  Country  Employment\n",
      "0                                    Academic researcher    100.0       100.0\n",
      "10397  Database administrator;Developer, back-end;Dev...    100.0       100.0\n",
      "10369  Database administrator;Developer, back-end;Dev...    100.0       100.0\n",
      "10370  Database administrator;Developer, back-end;Dev...    100.0       100.0\n",
      "10371  Database administrator;Developer, back-end;Dev...    100.0       100.0\n",
      "...                                                  ...      ...         ...\n",
      "15314  Educator or academic researcher;Front-end deve...    100.0         0.0\n",
      "12588  Desktop or enterprise applications developer;G...    100.0         0.0\n",
      "11235  Designer;Desktop or enterprise applications de...    100.0         0.0\n",
      "9164   Database administrator;Designer;Desktop or ent...    100.0         0.0\n",
      "9079   Data scientist or machine learning specialist;...    100.0         0.0\n",
      "\n",
      "[15627 rows x 3 columns]\n"
     ]
    }
   ],
   "source": [
    "missingData = df[['Country','Employment']].notnull().groupby(df['DevType']).mean().reset_index()\n",
    "missingData[['Country','Employment']] = (missingData[['Country','Employment']]  * 100).round(0)\n",
    "missingData = missingData.sort_values('Employment', ascending=False)\n",
    "print('Proportion of data NOT missing by Year (%):')\n",
    "print(missingData)"
   ]
  },
  {
   "cell_type": "markdown",
   "id": "bbd996dc-4f9d-4e39-abc8-6663688535b3",
   "metadata": {},
   "source": [
    "This groupBy does not give us a useful insight as there are too many developer types. We should group DevType into front-end, back-end, full-stack, mobile and admin. We'll do that later."
   ]
  },
  {
   "cell_type": "markdown",
   "id": "aac3707a-abb1-41f8-b999-b6af007ade9d",
   "metadata": {},
   "source": [
    "So what type of missing data is it?\n",
    "- Structurally missing? No. No values were left blank on purpose by respondents because answer may be implicit from another column.\n",
    "- MAR? No. Missing data is not missing because a specific subset of people decided not to answer a part of the survey. You could argue that the Chinese developers were less likely to answer questions, but the other countries have missing data as well.\n",
    "- MCAR? Yes. Missing data is not missing because a specific subset of people decided not to answer a part of the survey. You could argue that the Chinese developers were less likely to answer questions, but the other countries have missing data as well.\n",
    "- MNAR? No. Missing data is not missing due to a specific event. You could argue that in 2020, developers were less likely to answer the DevType question. This could be due to the survey format / how the questions were presented that year, or due to roles becoming more ambiguous in developer market, making it harder to answer the question. We would have to ask researchers about this to be sure.\n",
    "\n",
    "Since the data is MCAR, we can drop any rows with missing data for either DevType or Employment column."
   ]
  },
  {
   "cell_type": "code",
   "execution_count": 15,
   "id": "a25c702c-1f0e-4296-82b7-85a72955ccbe",
   "metadata": {},
   "outputs": [
    {
     "name": "stdout",
     "output_type": "stream",
     "text": [
      "Proportion of data NOT missing by country (%):\n",
      "          Country  Employment  DevType\n",
      "0          Canada       100.0    100.0\n",
      "1           China       100.0    100.0\n",
      "2          France       100.0    100.0\n",
      "3         Germany       100.0    100.0\n",
      "4           Japan       100.0    100.0\n",
      "5          Mexico       100.0    100.0\n",
      "6           Spain       100.0    100.0\n",
      "7  United Kingdom       100.0    100.0\n",
      "8   United States       100.0    100.0\n"
     ]
    }
   ],
   "source": [
    "df.dropna(subset=['Employment','DevType'], inplace= True)\n",
    "df.reset_index(drop= True)\n",
    "\n",
    "missingData = df[['Employment','DevType']].notnull().groupby(df['Country']).mean().reset_index()\n",
    "missingData[['Employment', 'DevType']] = (missingData[['Employment', 'DevType']] * 100).round(0)\n",
    "print('Proportion of data NOT missing by country (%):')\n",
    "print(missingData)"
   ]
  },
  {
   "cell_type": "markdown",
   "id": "6f134f28-e063-49d7-b600-5b343740ad54",
   "metadata": {},
   "source": [
    "We can now plot some graphs to see information visually"
   ]
  },
  {
   "cell_type": "code",
   "execution_count": 16,
   "id": "7b5d17fe-b480-4dd3-b6f7-dd72be82404f",
   "metadata": {},
   "outputs": [
    {
     "name": "stderr",
     "output_type": "stream",
     "text": [
      "C:\\ProgramData\\Anaconda3\\lib\\site-packages\\pandas\\core\\indexing.py:1684: SettingWithCopyWarning: \n",
      "A value is trying to be set on a copy of a slice from a DataFrame.\n",
      "Try using .loc[row_indexer,col_indexer] = value instead\n",
      "\n",
      "See the caveats in the documentation: https://pandas.pydata.org/pandas-docs/stable/user_guide/indexing.html#returning-a-view-versus-a-copy\n",
      "  self.obj[key] = infer_fill_value(value)\n",
      "C:\\ProgramData\\Anaconda3\\lib\\site-packages\\pandas\\core\\indexing.py:1817: SettingWithCopyWarning: \n",
      "A value is trying to be set on a copy of a slice from a DataFrame.\n",
      "Try using .loc[row_indexer,col_indexer] = value instead\n",
      "\n",
      "See the caveats in the documentation: https://pandas.pydata.org/pandas-docs/stable/user_guide/indexing.html#returning-a-view-versus-a-copy\n",
      "  self._setitem_single_column(loc, value, pi)\n"
     ]
    },
    {
     "name": "stdout",
     "output_type": "stream",
     "text": [
      "         Country                                            DevType BackEnd  \\\n",
      "0  United States           Engineering manager;Full-stack developer     NaN   \n",
      "1  United States                              Developer, full-stack     NaN   \n",
      "3  United States                               Full-stack developer     NaN   \n",
      "4  United States  Data or business analyst;Database administrato...    True   \n",
      "5  United States  Developer, back-end;Developer, desktop or ente...    True   \n",
      "\n",
      "  FrontEnd FullStack Mobile Admin  \n",
      "0      NaN       NaN    NaN   NaN  \n",
      "1      NaN      True    NaN   NaN  \n",
      "3      NaN       NaN    NaN   NaN  \n",
      "4     True      True   True  True  \n",
      "5      NaN       NaN    NaN   NaN  \n",
      "         Country   DevCat DevFlag\n",
      "0  United States  BackEnd     NaN\n",
      "1  United States  BackEnd     NaN\n",
      "2  United States  BackEnd     NaN\n",
      "3  United States  BackEnd    True\n",
      "4  United States  BackEnd    True\n",
      "         Country   DevCat DevFlag\n",
      "0  United States  BackEnd    True\n",
      "1  United States  BackEnd    True\n",
      "2  United States  BackEnd    True\n",
      "3  United States  BackEnd    True\n",
      "4  United States  BackEnd    True\n"
     ]
    },
    {
     "data": {
      "image/png": "[encoded data removed]",
      "text/plain": [
       "<Figure size 3888x432 with 6 Axes>"
      ]
     },
     "metadata": {
      "needs_background": "light"
     },
     "output_type": "display_data"
    },
    {
     "data": {
      "image/png": "[encoded data removed]",
      "text/plain": [
       "<Figure size 3240x432 with 5 Axes>"
      ]
     },
     "metadata": {
      "needs_background": "light"
     },
     "output_type": "display_data"
    }
   ],
   "source": [
    "empfig = sns.catplot(x=\"Country\", col=\"Employment\",\n",
    "                data=df, kind=\"count\",\n",
    "                height=6, aspect=1.5);\n",
    " \n",
    "# Focus on a few of the key developer types outlined in the Stack Overflow survey\n",
    "devdf = df[['Country','DevType']]\n",
    "devdf.loc[devdf['DevType'].str.contains('back-end'), 'BackEnd'] = True\n",
    "devdf.loc[devdf['DevType'].str.contains('front-end'), 'FrontEnd'] = True\n",
    "devdf.loc[devdf['DevType'].str.contains('full-stack'), 'FullStack'] = True\n",
    "devdf.loc[devdf['DevType'].str.contains('mobile'), 'Mobile'] = True\n",
    "devdf.loc[devdf['DevType'].str.contains('administrator'), 'Admin'] = True\n",
    "\n",
    "print(devdf.head())\n",
    " \n",
    "devdf = devdf.melt(id_vars=['Country'], \n",
    "    value_vars=['BackEnd','FrontEnd','FullStack','Mobile','Admin'], \n",
    "    var_name='DevCat',\n",
    "    value_name='DevFlag')\n",
    "\n",
    "print(devdf.head())\n",
    " \n",
    "devdf.dropna(how='any', inplace=True)\n",
    "devdf = devdf.reset_index(drop=True)\n",
    "\n",
    "print(devdf.head())\n",
    " \n",
    "devFig = sns.catplot(x=\"Country\", col=\"DevCat\",\n",
    "                data=devdf, kind=\"count\",\n",
    "                height=6, aspect=1.5);"
   ]
  },
  {
   "cell_type": "markdown",
   "id": "64b88c05-5464-4f2e-8483-43c1cab50bda",
   "metadata": {},
   "source": [
    "## Investigate developer undergraduate majors"
   ]
  },
  {
   "cell_type": "code",
   "execution_count": 17,
   "id": "f0d7d87e-bea6-4d07-8428-b459893d4bc0",
   "metadata": {},
   "outputs": [
    {
     "data": {
      "image/png": "[encoded data removed]",
      "text/plain": [
       "<Figure size 288x288 with 1 Axes>"
      ]
     },
     "metadata": {
      "needs_background": "light"
     },
     "output_type": "display_data"
    }
   ],
   "source": [
    "missingUndergrad = df['UndergradMajor'].isnull().groupby(df['Year']).sum().reset_index()\n",
    " \n",
    "sns.catplot(x=\"Year\", y=\"UndergradMajor\",\n",
    "                data=missingUndergrad, kind=\"bar\",\n",
    "                height=4, aspect=1);"
   ]
  },
  {
   "cell_type": "code",
   "execution_count": 18,
   "id": "c643a334-709d-4178-8030-507e3be098bf",
   "metadata": {},
   "outputs": [
    {
     "data": {
      "text/html": [
       "<div>\n",
       "<style scoped>\n",
       "    .dataframe tbody tr th:only-of-type {\n",
       "        vertical-align: middle;\n",
       "    }\n",
       "\n",
       "    .dataframe tbody tr th {\n",
       "        vertical-align: top;\n",
       "    }\n",
       "\n",
       "    .dataframe thead th {\n",
       "        text-align: right;\n",
       "    }\n",
       "</style>\n",
       "<table border=\"1\" class=\"dataframe\">\n",
       "  <thead>\n",
       "    <tr style=\"text-align: right;\">\n",
       "      <th></th>\n",
       "      <th>RespondentID</th>\n",
       "      <th>Year</th>\n",
       "      <th>UndergradMajor</th>\n",
       "    </tr>\n",
       "  </thead>\n",
       "  <tbody>\n",
       "    <tr>\n",
       "      <th>0</th>\n",
       "      <td>1</td>\n",
       "      <td>2018</td>\n",
       "      <td>Computer science, computer engineering, or sof...</td>\n",
       "    </tr>\n",
       "    <tr>\n",
       "      <th>1</th>\n",
       "      <td>1</td>\n",
       "      <td>2019</td>\n",
       "      <td>Computer science, computer engineering, or sof...</td>\n",
       "    </tr>\n",
       "    <tr>\n",
       "      <th>3</th>\n",
       "      <td>2</td>\n",
       "      <td>2018</td>\n",
       "      <td>Computer science, computer engineering, or sof...</td>\n",
       "    </tr>\n",
       "    <tr>\n",
       "      <th>4</th>\n",
       "      <td>2</td>\n",
       "      <td>2019</td>\n",
       "      <td>Computer science, computer engineering, or sof...</td>\n",
       "    </tr>\n",
       "    <tr>\n",
       "      <th>5</th>\n",
       "      <td>2</td>\n",
       "      <td>2020</td>\n",
       "      <td>Computer science, computer engineering, or sof...</td>\n",
       "    </tr>\n",
       "    <tr>\n",
       "      <th>6</th>\n",
       "      <td>3</td>\n",
       "      <td>2018</td>\n",
       "      <td>Computer science, computer engineering, or sof...</td>\n",
       "    </tr>\n",
       "    <tr>\n",
       "      <th>7</th>\n",
       "      <td>3</td>\n",
       "      <td>2019</td>\n",
       "      <td>Computer science, computer engineering, or sof...</td>\n",
       "    </tr>\n",
       "    <tr>\n",
       "      <th>8</th>\n",
       "      <td>3</td>\n",
       "      <td>2020</td>\n",
       "      <td>Computer science, computer engineering, or sof...</td>\n",
       "    </tr>\n",
       "    <tr>\n",
       "      <th>9</th>\n",
       "      <td>4</td>\n",
       "      <td>2018</td>\n",
       "      <td>Fine arts or performing arts (ex. graphic desi...</td>\n",
       "    </tr>\n",
       "    <tr>\n",
       "      <th>10</th>\n",
       "      <td>4</td>\n",
       "      <td>2019</td>\n",
       "      <td>Information systems, information technology, o...</td>\n",
       "    </tr>\n",
       "    <tr>\n",
       "      <th>11</th>\n",
       "      <td>4</td>\n",
       "      <td>2020</td>\n",
       "      <td>Computer science, computer engineering, or sof...</td>\n",
       "    </tr>\n",
       "    <tr>\n",
       "      <th>12</th>\n",
       "      <td>5</td>\n",
       "      <td>2018</td>\n",
       "      <td>Computer science, computer engineering, or sof...</td>\n",
       "    </tr>\n",
       "    <tr>\n",
       "      <th>13</th>\n",
       "      <td>5</td>\n",
       "      <td>2019</td>\n",
       "      <td>Computer science, computer engineering, or sof...</td>\n",
       "    </tr>\n",
       "    <tr>\n",
       "      <th>14</th>\n",
       "      <td>5</td>\n",
       "      <td>2020</td>\n",
       "      <td>Computer science, computer engineering, or sof...</td>\n",
       "    </tr>\n",
       "    <tr>\n",
       "      <th>15</th>\n",
       "      <td>6</td>\n",
       "      <td>2018</td>\n",
       "      <td>Computer science, computer engineering, or sof...</td>\n",
       "    </tr>\n",
       "  </tbody>\n",
       "</table>\n",
       "</div>"
      ],
      "text/plain": [
       "    RespondentID  Year                                     UndergradMajor\n",
       "0              1  2018  Computer science, computer engineering, or sof...\n",
       "1              1  2019  Computer science, computer engineering, or sof...\n",
       "3              2  2018  Computer science, computer engineering, or sof...\n",
       "4              2  2019  Computer science, computer engineering, or sof...\n",
       "5              2  2020  Computer science, computer engineering, or sof...\n",
       "6              3  2018  Computer science, computer engineering, or sof...\n",
       "7              3  2019  Computer science, computer engineering, or sof...\n",
       "8              3  2020  Computer science, computer engineering, or sof...\n",
       "9              4  2018  Fine arts or performing arts (ex. graphic desi...\n",
       "10             4  2019  Information systems, information technology, o...\n",
       "11             4  2020  Computer science, computer engineering, or sof...\n",
       "12             5  2018  Computer science, computer engineering, or sof...\n",
       "13             5  2019  Computer science, computer engineering, or sof...\n",
       "14             5  2020  Computer science, computer engineering, or sof...\n",
       "15             6  2018  Computer science, computer engineering, or sof..."
      ]
     },
     "execution_count": 18,
     "metadata": {},
     "output_type": "execute_result"
    }
   ],
   "source": [
    "# Sort by ID and Year so that each person's data is carried backwards correctly\n",
    "df = df.sort_values(['RespondentID','Year'])\n",
    " \n",
    "df['UndergradMajor'].bfill(axis=0, inplace=True)\n",
    "df[['RespondentID','Year','UndergradMajor']].head(15)"
   ]
  },
  {
   "cell_type": "code",
   "execution_count": 19,
   "id": "98bda6bc-099e-48a7-be82-c79105b16a96",
   "metadata": {},
   "outputs": [
    {
     "name": "stderr",
     "output_type": "stream",
     "text": [
      "C:\\ProgramData\\Anaconda3\\lib\\site-packages\\pandas\\util\\_decorators.py:311: SettingWithCopyWarning: \n",
      "A value is trying to be set on a copy of a slice from a DataFrame\n",
      "\n",
      "See the caveats in the documentation: https://pandas.pydata.org/pandas-docs/stable/user_guide/indexing.html#returning-a-view-versus-a-copy\n",
      "  return func(*args, **kwargs)\n",
      "C:\\ProgramData\\Anaconda3\\lib\\site-packages\\pandas\\core\\indexing.py:1684: SettingWithCopyWarning: \n",
      "A value is trying to be set on a copy of a slice from a DataFrame.\n",
      "Try using .loc[row_indexer,col_indexer] = value instead\n",
      "\n",
      "See the caveats in the documentation: https://pandas.pydata.org/pandas-docs/stable/user_guide/indexing.html#returning-a-view-versus-a-copy\n",
      "  self.obj[key] = infer_fill_value(value)\n",
      "C:\\ProgramData\\Anaconda3\\lib\\site-packages\\pandas\\core\\indexing.py:1817: SettingWithCopyWarning: \n",
      "A value is trying to be set on a copy of a slice from a DataFrame.\n",
      "Try using .loc[row_indexer,col_indexer] = value instead\n",
      "\n",
      "See the caveats in the documentation: https://pandas.pydata.org/pandas-docs/stable/user_guide/indexing.html#returning-a-view-versus-a-copy\n",
      "  self._setitem_single_column(loc, value, pi)\n"
     ]
    },
    {
     "data": {
      "image/png": "[encoded data removed]",
      "text/plain": [
       "<Figure size 3240x432 with 5 Axes>"
      ]
     },
     "metadata": {
      "needs_background": "light"
     },
     "output_type": "display_data"
    }
   ],
   "source": [
    "# Key major groups outlined in the Stack Overflow survey\n",
    "majors = ['social science','natural science','computer science','development','another engineering','never declared']\n",
    " \n",
    "edudf = df[['Year','UndergradMajor']]\n",
    "edudf.dropna(how='any', inplace=True)\n",
    "# Now create new columns with Trues and Falses\n",
    "edudf.loc[edudf['UndergradMajor'].str.contains('(?i)social science'), 'SocialScience'] = True\n",
    "edudf.loc[edudf['UndergradMajor'].str.contains('(?i)natural science'), 'NaturalScience'] = True\n",
    "edudf.loc[edudf['UndergradMajor'].str.contains('(?i)computer science'), 'ComSci'] = True\n",
    "edudf.loc[edudf['UndergradMajor'].str.contains('(?i)development'), 'ComSci'] = True\n",
    "edudf.loc[edudf['UndergradMajor'].str.contains('(?i)another engineering'), 'OtherEng'] = True\n",
    "edudf.loc[edudf['UndergradMajor'].str.contains('(?i)never declared'), 'NoMajor'] = True\n",
    "\n",
    "# Melt the wide dataframe into a narrow dataframe, putting all majors categories in a single column, 'EduCat', \n",
    "# followed by a column that says True or False (did that guy study that major that year? True)\n",
    "edudf = edudf.melt(id_vars=['Year'], \n",
    "    value_vars=['SocialScience','NaturalScience','ComSci','OtherEng','NoMajor'], \n",
    "    var_name='EduCat',\n",
    "    value_name='EduFlag')\n",
    "\n",
    "edudf.dropna(how='any', inplace=True)\n",
    "edudf = edudf.groupby(['Year','EduCat']).count().reset_index()\n",
    " \n",
    "eduFig = sns.catplot(x=\"Year\", y='EduFlag', col=\"EduCat\",\n",
    "                data=edudf, kind=\"bar\",\n",
    "                height=6, aspect=1.5);"
   ]
  },
  {
   "cell_type": "code",
   "execution_count": 20,
   "id": "e5d8147d-99da-41d5-910d-c5f70f38e077",
   "metadata": {},
   "outputs": [
    {
     "name": "stderr",
     "output_type": "stream",
     "text": [
      "C:\\ProgramData\\Anaconda3\\lib\\site-packages\\pandas\\util\\_decorators.py:311: SettingWithCopyWarning: \n",
      "A value is trying to be set on a copy of a slice from a DataFrame\n",
      "\n",
      "See the caveats in the documentation: https://pandas.pydata.org/pandas-docs/stable/user_guide/indexing.html#returning-a-view-versus-a-copy\n",
      "  return func(*args, **kwargs)\n",
      "C:\\ProgramData\\Anaconda3\\lib\\site-packages\\pandas\\core\\indexing.py:1684: SettingWithCopyWarning: \n",
      "A value is trying to be set on a copy of a slice from a DataFrame.\n",
      "Try using .loc[row_indexer,col_indexer] = value instead\n",
      "\n",
      "See the caveats in the documentation: https://pandas.pydata.org/pandas-docs/stable/user_guide/indexing.html#returning-a-view-versus-a-copy\n",
      "  self.obj[key] = infer_fill_value(value)\n",
      "C:\\ProgramData\\Anaconda3\\lib\\site-packages\\pandas\\core\\indexing.py:1817: SettingWithCopyWarning: \n",
      "A value is trying to be set on a copy of a slice from a DataFrame.\n",
      "Try using .loc[row_indexer,col_indexer] = value instead\n",
      "\n",
      "See the caveats in the documentation: https://pandas.pydata.org/pandas-docs/stable/user_guide/indexing.html#returning-a-view-versus-a-copy\n",
      "  self._setitem_single_column(loc, value, pi)\n"
     ]
    },
    {
     "data": {
      "image/png": "[encoded data removed]",
      "text/plain": [
       "<Figure size 3240x432 with 5 Axes>"
      ]
     },
     "metadata": {
      "needs_background": "light"
     },
     "output_type": "display_data"
    }
   ],
   "source": [
    "# Key major groups outlined in the Stack Overflow survey\n",
    "majors = ['social science','natural science','computer science','development','another engineering','never declared']\n",
    " \n",
    "edudf = df[['Year','UndergradMajor']]\n",
    "edudf.dropna(how='any', inplace=True)\n",
    "# Now create new columns with Trues and Falses\n",
    "edudf.loc[edudf['UndergradMajor'].str.contains('(?i)social science'), 'SocialScience'] = True\n",
    "edudf.loc[edudf['UndergradMajor'].str.contains('(?i)natural science'), 'NaturalScience'] = True\n",
    "edudf.loc[edudf['UndergradMajor'].str.contains('(?i)computer science'), 'ComSci'] = True\n",
    "edudf.loc[edudf['UndergradMajor'].str.contains('(?i)development'), 'ComSci'] = True\n",
    "edudf.loc[edudf['UndergradMajor'].str.contains('(?i)another engineering'), 'OtherEng'] = True\n",
    "edudf.loc[edudf['UndergradMajor'].str.contains('(?i)never declared'), 'NoMajor'] = True\n",
    "\n",
    "# Melt the wide dataframe into a narrow dataframe, putting all majors categories in a single column, 'EduCat', \n",
    "# followed by a column that says True or False (did that guy study that major that year? True)\n",
    "edudf = edudf.melt(id_vars=['Year'], \n",
    "    value_vars=['SocialScience','NaturalScience','ComSci','OtherEng','NoMajor'], \n",
    "    var_name='EduCat',\n",
    "    value_name='EduFlag')\n",
    "\n",
    "edudf.dropna(how='any', inplace=True)\n",
    "edudf = edudf.groupby(['Year','EduCat'])['EduFlag'].sum().reset_index()\n",
    "\n",
    "# Now calculate the total count of people who reported their education category each year\n",
    "total_count = edudf.groupby('Year')['EduFlag'].sum()\n",
    "\n",
    "# Divide the count of each category by the total count of people who reported their education category that year\n",
    "edudf['EduFlag'] = edudf.apply(lambda x: x['EduFlag'] / total_count[x['Year']], axis=1)\n",
    "\n",
    "eduFig = sns.catplot(x=\"Year\", y='EduFlag', col=\"EduCat\",\n",
    "                data=edudf, kind=\"bar\",\n",
    "                height=6, aspect=1.5);\n"
   ]
  },
  {
   "cell_type": "markdown",
   "id": "0727ae6a-7107-4a8b-be6b-227a8ed613d2",
   "metadata": {},
   "source": [
    "Insights:\n",
    "- Unsuprisingly, most people in the survey studied computer science\n",
    "- The reason 2020 has fewer data for all majors is because 2020 had many fewer responders to the survey. In fact, when we look at the graph of percentage of responders with computer science major by Year, we see that that percentage increased over time, more developers come from computer science than before. We don't know why fewer people responded that year, we could ask stack overflow if they know why (they could have sent the survey to fewer people, or the pandemic may have demotivated people to take part in surveys)"
   ]
  },
  {
   "cell_type": "markdown",
   "id": "9bd415ad-8a73-4284-8468-c39551ffa5f5",
   "metadata": {},
   "source": [
    "## Examine the relationship between years of experience and compensation"
   ]
  },
  {
   "cell_type": "code",
   "execution_count": 21,
   "id": "63c74331-8d6f-404d-8a61-fc73325d4227",
   "metadata": {},
   "outputs": [
    {
     "name": "stdout",
     "output_type": "stream",
     "text": [
      "        Year  YearsCodePro  ConvertedComp\n",
      "0       2018           NaN       141000.0\n",
      "1       2019           1.0        61000.0\n",
      "3       2018           4.0        48000.0\n",
      "4       2019           8.0        90000.0\n",
      "5       2020          13.0       116000.0\n",
      "...      ...           ...            ...\n",
      "111187  2018           NaN        93000.0\n",
      "111188  2018           NaN       116000.0\n",
      "111190  2018           NaN         8000.0\n",
      "111191  2018           NaN        71000.0\n",
      "111198  2018           1.0       144000.0\n",
      "\n",
      "[99975 rows x 3 columns]\n"
     ]
    },
    {
     "data": {
      "image/png": "[encoded data removed]",
      "text/plain": [
       "<Figure size 432x288 with 1 Axes>"
      ]
     },
     "metadata": {
      "needs_background": "light"
     },
     "output_type": "display_data"
    }
   ],
   "source": [
    "compFields = df[['Year','YearsCodePro','ConvertedComp']]\n",
    "print(compFields)\n",
    " \n",
    "D = sns.boxplot(x=\"Year\", y=\"YearsCodePro\",\n",
    "            data=compFields)"
   ]
  },
  {
   "cell_type": "code",
   "execution_count": 22,
   "id": "005e693c-6a80-4afc-b64a-2fcde618355e",
   "metadata": {},
   "outputs": [
    {
     "data": {
      "text/plain": [
       "<function matplotlib.pyplot.show(close=None, block=None)>"
      ]
     },
     "execution_count": 22,
     "metadata": {},
     "output_type": "execute_result"
    },
    {
     "data": {
      "image/png": "[encoded data removed]",
      "text/plain": [
       "<Figure size 432x288 with 1 Axes>"
      ]
     },
     "metadata": {
      "needs_background": "light"
     },
     "output_type": "display_data"
    }
   ],
   "source": [
    "# create the boxplot\n",
    "E = sns.boxplot(x=\"Year\", y=\"ConvertedComp\", data=compFields)\n",
    "\n",
    "# get the y-axis object\n",
    "y_axis = E.axes.yaxis\n",
    "\n",
    "# create a scalar formatter without scientific notation\n",
    "formatter = ScalarFormatter(useMathText=False)\n",
    "formatter.set_scientific(False)\n",
    "formatter.set_powerlimits((-6,6))\n",
    "\n",
    "# set the y-axis tick labels to use the new formatter\n",
    "y_axis.set_major_formatter(formatter)\n",
    "\n",
    "# show the plot\n",
    "plt.show\n"
   ]
  },
  {
   "cell_type": "markdown",
   "id": "d5ac67ba-f9c3-462f-a1c3-deb67d13f6e5",
   "metadata": {},
   "source": [
    "The distribution of YearsCodePro and ConvertedComp is similar across different years in the data set. This suggests that the relationship between YearsCodePro and ConvertedComp is stable over time"
   ]
  },
  {
   "cell_type": "code",
   "execution_count": 23,
   "id": "e03dfc86-c3af-47fc-b2ad-c0ec8f19538f",
   "metadata": {},
   "outputs": [
    {
     "data": {
      "image/png": "[encoded data removed]",
      "text/plain": [
       "<Figure size 432x288 with 1 Axes>"
      ]
     },
     "metadata": {
      "needs_background": "light"
     },
     "output_type": "display_data"
    }
   ],
   "source": [
    "import matplotlib.pyplot as plt\n",
    "\n",
    "imputedf = df[['YearsCodePro','ConvertedComp']]\n",
    "years = imputedf['YearsCodePro']\n",
    "\n",
    "plt.hist(years, bins=range(0, 51, 1), edgecolor='black')\n",
    "plt.xticks(range(0, 51, 1))\n",
    "plt.xlabel('Years of Coding Experience')\n",
    "plt.ylabel('Frequency')\n",
    "plt.title('Distribution of Years of Coding Experience')\n",
    "plt.show()\n"
   ]
  },
  {
   "cell_type": "code",
   "execution_count": 24,
   "id": "3eb545d7-07fb-4496-9f81-2fa6a6af1984",
   "metadata": {},
   "outputs": [
    {
     "data": {
      "image/png": "[encoded data removed]",
      "text/plain": [
       "<Figure size 432x288 with 1 Axes>"
      ]
     },
     "metadata": {
      "needs_background": "light"
     },
     "output_type": "display_data"
    }
   ],
   "source": [
    "imputedf = imputedf.loc[imputedf['ConvertedComp'] <= 150000]\n",
    "\n",
    "imputedf['ConvertedComp'].plot.hist(bins=100, edgecolor='black')\n",
    "plt.xlabel('ConvertedComp')\n",
    "plt.ylabel('Frequency')\n",
    "plt.title('Histogram of ConvertedComp')\n",
    "plt.show()"
   ]
  },
  {
   "cell_type": "code",
   "execution_count": 25,
   "id": "ba2c317e-6676-4285-a80e-41f64ce15b8b",
   "metadata": {},
   "outputs": [
    {
     "name": "stdout",
     "output_type": "stream",
     "text": [
      "       YearsCodePro  ConvertedComp\n",
      "5               1.0            NaN\n",
      "11              NaN            NaN\n",
      "20              9.0            NaN\n",
      "22              NaN            NaN\n",
      "23              0.0            NaN\n",
      "...             ...            ...\n",
      "99953          16.0            NaN\n",
      "99955           0.0            NaN\n",
      "99961           NaN            NaN\n",
      "99963          11.0            NaN\n",
      "99965           NaN            NaN\n",
      "\n",
      "[16659 rows x 2 columns]\n",
      "99975\n",
      "       YearsCodePro  ConvertedComp\n",
      "5             1.000     119912.957\n",
      "11            9.498     129224.805\n",
      "20            9.000     128679.602\n",
      "22            9.498     129224.805\n",
      "23            0.000     118817.126\n",
      "...             ...            ...\n",
      "99953        16.000     136350.417\n",
      "99955         0.000     118817.126\n",
      "99961         9.498     129224.805\n",
      "99963        11.000     130871.263\n",
      "99965         9.498     129224.805\n",
      "\n",
      "[16659 rows x 2 columns]\n"
     ]
    }
   ],
   "source": [
    "import numpy as np\n",
    "from sklearn.experimental import enable_iterative_imputer\n",
    "from sklearn.impute import IterativeImputer\n",
    "\n",
    "imputedf = df[['YearsCodePro','ConvertedComp']]\n",
    "imputedf = imputedf.reset_index(drop= True)\n",
    "print(imputedf[imputedf['ConvertedComp'].isna()])\n",
    "print(len(imputedf))\n",
    "\n",
    "imp = IterativeImputer(max_iter=10, random_state=0)\n",
    "imp.fit(imputedf)\n",
    "compdf = pd.DataFrame(np.round(imp.transform(imputedf),3), columns=['YearsCodePro','ConvertedComp'])\n",
    "\n",
    "print(compdf[imputedf['ConvertedComp'].isna()])\n",
    "\n",
    "# Note: It is still an open problem as to how useful single vs. multiple imputation is in the context of \n",
    "# prediction and classification when the user is not interested in measuring uncertainty due to missing values.\n",
    "# Since we are not measuring/evaluating uncertainty due to missing values, we don't need a training and test set."
   ]
  },
  {
   "cell_type": "code",
   "execution_count": 33,
   "id": "4bf544d0-49ac-4e01-887b-ab1e79364fad",
   "metadata": {},
   "outputs": [],
   "source": [
    "import numpy as np\n",
    "from sklearn.experimental import enable_iterative_imputer\n",
    "from sklearn.impute import IterativeImputer\n",
    "from sklearn.model_selection import train_test_split\n",
    " \n",
    "imputedf = df[['YearsCodePro','ConvertedComp']]\n",
    " \n",
    "traindf, testdf = train_test_split(imputedf)\n",
    " \n",
    "# Create the IterativeImputer model to predict missing values\n",
    "imp = IterativeImputer(max_iter=20, random_state=0)\n",
    " \n",
    "# Fit the model to the ENTIRE dataset (train and test are in case you need to evaluate imputation results)\n",
    "imp.fit(imputedf)\n",
    " \n",
    "# Transform the model on the entire dataset\n",
    "compdf = pd.DataFrame(np.round(imp.transform(imputedf),0), columns=['YearsCodePro','ConvertedComp'])"
   ]
  },
  {
   "cell_type": "code",
   "execution_count": 34,
   "id": "b3364787-d8ae-45fb-9e7e-71bf37324cf5",
   "metadata": {},
   "outputs": [
    {
     "name": "stderr",
     "output_type": "stream",
     "text": [
      "C:\\Users\\JaimeGGB\\AppData\\Local\\Temp/ipykernel_20420/2851799836.py:2: SettingWithCopyWarning: \n",
      "A value is trying to be set on a copy of a slice from a DataFrame.\n",
      "Try using .loc[row_indexer,col_indexer] = value instead\n",
      "\n",
      "See the caveats in the documentation: https://pandas.pydata.org/pandas-docs/stable/user_guide/indexing.html#returning-a-view-versus-a-copy\n",
      "  compPlotdf['CodeYearBins'] = pd.qcut(compPlotdf['YearsCodePro'], q=5)\n"
     ]
    },
    {
     "data": {
      "text/plain": [
       "<AxesSubplot:xlabel='CodeYearBins', ylabel='ConvertedComp'>"
      ]
     },
     "execution_count": 34,
     "metadata": {},
     "output_type": "execute_result"
    },
    {
     "data": {
      "image/png": "[encoded data removed]",
      "text/plain": [
       "<Figure size 432x288 with 1 Axes>"
      ]
     },
     "metadata": {
      "needs_background": "light"
     },
     "output_type": "display_data"
    }
   ],
   "source": [
    "compPlotdf = compdf.loc[compdf['ConvertedComp'] <= 150000]\n",
    "compPlotdf['CodeYearBins'] = pd.qcut(compPlotdf['YearsCodePro'], q=5)\n",
    " \n",
    "sns.boxplot(x=\"CodeYearBins\", y=\"ConvertedComp\",\n",
    "            data=compPlotdf)"
   ]
  },
  {
   "cell_type": "code",
   "execution_count": 35,
   "id": "38390c14-fad4-4a7b-b790-db185263f7fb",
   "metadata": {},
   "outputs": [
    {
     "data": {
      "text/plain": [
       "(array([0, 1, 2, 3, 4]),\n",
       " [Text(0, 0, '(-0.001, 3.0]'),\n",
       "  Text(1, 0, '(3.0, 5.0]'),\n",
       "  Text(2, 0, '(5.0, 10.0]'),\n",
       "  Text(3, 0, '(10.0, 15.0]'),\n",
       "  Text(4, 0, '(15.0, 50.0]')])"
      ]
     },
     "execution_count": 35,
     "metadata": {},
     "output_type": "execute_result"
    },
    {
     "data": {
      "image/png": "[encoded data removed]",
      "text/plain": [
       "<Figure size 432x288 with 1 Axes>"
      ]
     },
     "metadata": {
      "needs_background": "light"
     },
     "output_type": "display_data"
    }
   ],
   "source": [
    "Deletiondf = df[['YearsCodePro', 'ConvertedComp']].dropna()\n",
    "Deletiondf = Deletiondf.loc[Deletiondf['ConvertedComp'] <= 150000]\n",
    "Deletiondf['CodeYearBins'] = pd.qcut(Deletiondf['YearsCodePro'], q=5)\n",
    " \n",
    "sns.boxplot(x=\"CodeYearBins\", y=\"ConvertedComp\",\n",
    "            data=Deletiondf)\n",
    "plt.xticks(rotation=90)"
   ]
  },
  {
   "cell_type": "markdown",
   "id": "4225d289-b506-4f9c-8667-c21921dfe1a0",
   "metadata": {},
   "source": [
    "Note: In this particular case, deletion seems like a better choice than imputation. Imputation seems to be inflating compensation at 9 years of experience (imputation is predicting practically all missing years of experience as 9, and all compensation values as about 130,000 USD)."
   ]
  },
  {
   "cell_type": "code",
   "execution_count": 36,
   "id": "a0dfc708-4ecc-4f38-bec3-c7ce0e985c9e",
   "metadata": {},
   "outputs": [
    {
     "data": {
      "image/png": "[encoded data removed]",
      "text/plain": [
       "<Figure size 432x288 with 1 Axes>"
      ]
     },
     "metadata": {
      "needs_background": "light"
     },
     "output_type": "display_data"
    }
   ],
   "source": [
    "years = compPlotdf['YearsCodePro']\n",
    "\n",
    "plt.hist(years, bins=range(0, 51, 1), edgecolor='black')\n",
    "plt.xticks(range(0, 51, 1))\n",
    "plt.xlabel('Years of Coding Experience')\n",
    "plt.ylabel('Frequency')\n",
    "plt.title('Distribution of Years of Coding Experience')\n",
    "plt.show()"
   ]
  },
  {
   "cell_type": "code",
   "execution_count": null,
   "id": "f8ca243a-41ca-4d42-8411-56ebf288d391",
   "metadata": {},
   "outputs": [],
   "source": [
    "compPlotdf['ConvertedComp'].plot.hist(bins=100, edgecolor='black')\n",
    "plt.xlabel('ConvertedComp')\n",
    "plt.ylabel('Frequency')\n",
    "plt.title('Histogram of ConvertedComp')\n",
    "plt.show()"
   ]
  },
  {
   "cell_type": "markdown",
   "id": "c201898e-e99e-4e0a-be4d-dd7dca579905",
   "metadata": {},
   "source": [
    "I trust the dataframe in which I deleted missing rows more than the dataframe in which I imputed missing values."
   ]
  }
 ],
 "metadata": {
  "kernelspec": {
   "display_name": "Python 3 (ipykernel)",
   "language": "python",
   "name": "python3"
  },
  "language_info": {
   "codemirror_mode": {
    "name": "ipython",
    "version": 3
   },
   "file_extension": ".py",
   "mimetype": "text/x-python",
   "name": "python",
   "nbconvert_exporter": "python",
   "pygments_lexer": "ipython3",
   "version": "3.8.12"
  }
 },
 "nbformat": 4,
 "nbformat_minor": 5
}
